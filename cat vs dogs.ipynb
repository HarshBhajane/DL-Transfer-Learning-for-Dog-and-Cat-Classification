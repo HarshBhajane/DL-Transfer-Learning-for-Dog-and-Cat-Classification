{
 "cells": [
  {
   "cell_type": "code",
   "execution_count": 22,
   "id": "f3369a58",
   "metadata": {},
   "outputs": [
    {
     "name": "stdout",
     "output_type": "stream",
     "text": [
      "Requirement already satisfied: kaggle in c:\\users\\hp\\anaconda3\\lib\\site-packages (1.6.0)\n",
      "Requirement already satisfied: six>=1.10 in c:\\users\\hp\\anaconda3\\lib\\site-packages (from kaggle) (1.15.0)\n",
      "Requirement already satisfied: certifi in c:\\users\\hp\\anaconda3\\lib\\site-packages (from kaggle) (2020.12.5)\n",
      "Requirement already satisfied: python-dateutil in c:\\users\\hp\\anaconda3\\lib\\site-packages (from kaggle) (2.8.1)\n",
      "Requirement already satisfied: requests in c:\\users\\hp\\anaconda3\\lib\\site-packages (from kaggle) (2.25.1)\n",
      "Requirement already satisfied: tqdm in c:\\users\\hp\\anaconda3\\lib\\site-packages (from kaggle) (4.59.0)\n",
      "Requirement already satisfied: python-slugify in c:\\users\\hp\\anaconda3\\lib\\site-packages (from kaggle) (8.0.1)\n",
      "Requirement already satisfied: urllib3 in c:\\users\\hp\\anaconda3\\lib\\site-packages (from kaggle) (1.26.4)\n",
      "Requirement already satisfied: bleach in c:\\users\\hp\\anaconda3\\lib\\site-packages (from kaggle) (3.3.0)\n",
      "Requirement already satisfied: packaging in c:\\users\\hp\\anaconda3\\lib\\site-packages (from bleach->kaggle) (20.9)\n",
      "Requirement already satisfied: webencodings in c:\\users\\hp\\anaconda3\\lib\\site-packages (from bleach->kaggle) (0.5.1)\n",
      "Requirement already satisfied: text-unidecode>=1.3 in c:\\users\\hp\\anaconda3\\lib\\site-packages (from python-slugify->kaggle) (1.3)\n",
      "Requirement already satisfied: chardet<5,>=3.0.2 in c:\\users\\hp\\anaconda3\\lib\\site-packages (from requests->kaggle) (4.0.0)\n",
      "Requirement already satisfied: idna<3,>=2.5 in c:\\users\\hp\\anaconda3\\lib\\site-packages (from requests->kaggle) (2.10)\n",
      "Requirement already satisfied: pyparsing>=2.0.2 in c:\\users\\hp\\anaconda3\\lib\\site-packages (from packaging->bleach->kaggle) (2.4.7)\n"
     ]
    },
    {
     "name": "stderr",
     "output_type": "stream",
     "text": [
      "DEPRECATION: pyodbc 4.0.0-unsupported has a non-standard version number. pip 23.3 will enforce this behaviour change. A possible replacement is to upgrade to a newer version of pyodbc or contact the author to suggest that they release a version with a conforming version number. Discussion can be found at https://github.com/pypa/pip/issues/12063\n",
      "\n",
      "[notice] A new release of pip is available: 23.2.1 -> 23.3.2\n",
      "[notice] To update, run: python.exe -m pip install --upgrade pip\n"
     ]
    }
   ],
   "source": [
    "!pip install kaggle"
   ]
  },
  {
   "cell_type": "code",
   "execution_count": 27,
   "id": "c665eb9b",
   "metadata": {},
   "outputs": [
    {
     "name": "stderr",
     "output_type": "stream",
     "text": [
      "A subdirectory or file C:\\Users\\HP\\.kaggle already exists.\n"
     ]
    },
    {
     "name": "stdout",
     "output_type": "stream",
     "text": [
      "        0 file(s) copied.\n"
     ]
    },
    {
     "name": "stderr",
     "output_type": "stream",
     "text": [
      "Access is denied.\n"
     ]
    },
    {
     "name": "stdout",
     "output_type": "stream",
     "text": [
      "processed file: C:\\Users\\HP\\.kaggle\\kaggle.json\n",
      "Successfully processed 1 files; Failed processing 0 files\n",
      "processed file: C:\\Users\\HP\\.kaggle\\kaggle.json\n",
      "Successfully processed 1 files; Failed processing 0 files\n"
     ]
    }
   ],
   "source": [
    "# configuring the path of Kaggle.json file for Windows\n",
    "!mkdir \"%userprofile%\\.kaggle\"\n",
    "!copy kaggle.json \"%userprofile%\\.kaggle\"\n",
    "!icacls \"%userprofile%\\.kaggle\\kaggle.json\" /inheritance:r\n",
    "!icacls \"%userprofile%\\.kaggle\\kaggle.json\" /grant:r \"%username%:R\"\n"
   ]
  },
  {
   "cell_type": "code",
   "execution_count": 24,
   "id": "828d6d47",
   "metadata": {},
   "outputs": [
    {
     "name": "stderr",
     "output_type": "stream",
     "text": [
      "Traceback (most recent call last):\n",
      "  File \"c:\\users\\hp\\anaconda3\\lib\\runpy.py\", line 194, in _run_module_as_main\n",
      "    return _run_code(code, main_globals, None,\n",
      "  File \"c:\\users\\hp\\anaconda3\\lib\\runpy.py\", line 87, in _run_code\n",
      "    exec(code, run_globals)\n",
      "  File \"C:\\Users\\HP\\anaconda3\\Scripts\\kaggle.exe\\__main__.py\", line 7, in <module>\n",
      "  File \"c:\\users\\hp\\anaconda3\\lib\\site-packages\\kaggle\\cli.py\", line 70, in main\n",
      "    out = args.func(**command_args)\n",
      "  File \"c:\\users\\hp\\anaconda3\\lib\\site-packages\\kaggle\\api\\kaggle_api_extended.py\", line 997, in competition_download_cli\n",
      "    self.competition_download_files(competition, path, force,\n",
      "  File \"c:\\users\\hp\\anaconda3\\lib\\site-packages\\kaggle\\api\\kaggle_api_extended.py\", line 960, in competition_download_files\n",
      "    url = response.retries.history[0].redirect_location.split('?')[0]\n",
      "IndexError: tuple index out of range\n"
     ]
    }
   ],
   "source": [
    "# Kaggle api \n",
    "!kaggle competitions download -c dogs-vs-cats\n"
   ]
  },
  {
   "cell_type": "code",
   "execution_count": 26,
   "id": "16320ece",
   "metadata": {},
   "outputs": [
    {
     "name": "stderr",
     "output_type": "stream",
     "text": [
      "Traceback (most recent call last):\n",
      "  File \"c:\\users\\hp\\anaconda3\\lib\\runpy.py\", line 194, in _run_module_as_main\n",
      "    return _run_code(code, main_globals, None,\n",
      "  File \"c:\\users\\hp\\anaconda3\\lib\\runpy.py\", line 87, in _run_code\n",
      "    exec(code, run_globals)\n",
      "  File \"C:\\Users\\HP\\anaconda3\\Scripts\\kaggle.exe\\__main__.py\", line 7, in <module>\n",
      "  File \"c:\\users\\hp\\anaconda3\\lib\\site-packages\\kaggle\\cli.py\", line 70, in main\n",
      "    out = args.func(**command_args)\n",
      "  File \"c:\\users\\hp\\anaconda3\\lib\\site-packages\\kaggle\\api\\kaggle_api_extended.py\", line 1493, in dataset_download_cli\n",
      "    self.dataset_download_files(dataset,\n",
      "  File \"c:\\users\\hp\\anaconda3\\lib\\site-packages\\kaggle\\api\\kaggle_api_extended.py\", line 1447, in dataset_download_files\n",
      "    self.download_file(response, outfile, quiet, not force)\n",
      "  File \"c:\\users\\hp\\anaconda3\\lib\\site-packages\\kaggle\\api\\kaggle_api_extended.py\", line 1834, in download_file\n",
      "    size = int(response.headers['Content-Length'])\n",
      "  File \"c:\\users\\hp\\anaconda3\\lib\\site-packages\\urllib3\\_collections.py\", line 157, in __getitem__\n",
      "    val = self._container[key.lower()]\n",
      "KeyError: 'content-length'\n"
     ]
    }
   ],
   "source": [
    "\n"
   ]
  },
  {
   "cell_type": "code",
   "execution_count": 15,
   "id": "28604a1f",
   "metadata": {},
   "outputs": [
    {
     "name": "stdout",
     "output_type": "stream",
     "text": [
      " Volume in drive C is Windows\n",
      " Volume Serial Number is CE09-0150\n",
      "\n",
      " Directory of C:\\Users\\HP\\OneDrive\\Desktop\\project\\DL Project 3. Dog vs Cat Classification - Transfer Learning\n",
      "\n",
      "08-01-2024  05:39 PM    <DIR>          .\n",
      "08-01-2024  12:09 PM    <DIR>          ..\n",
      "08-01-2024  04:29 PM    <DIR>          .ipynb_checkpoints\n",
      "08-01-2024  05:39 PM            11,466 cat vs dogs.ipynb\n",
      "08-01-2024  05:33 PM                68 kaggle.json\n",
      "               2 File(s)         11,534 bytes\n",
      "               3 Dir(s)  110,391,783,424 bytes free\n"
     ]
    }
   ],
   "source": [
    "!dir\n",
    "\n"
   ]
  },
  {
   "cell_type": "code",
   "execution_count": 6,
   "id": "41877b70",
   "metadata": {},
   "outputs": [
    {
     "ename": "SyntaxError",
     "evalue": "(unicode error) 'unicodeescape' codec can't decode bytes in position 3-4: truncated \\UXXXXXXXX escape (<ipython-input-6-605a714c73b8>, line 4)",
     "output_type": "error",
     "traceback": [
      "\u001b[1;36m  File \u001b[1;32m\"<ipython-input-6-605a714c73b8>\"\u001b[1;36m, line \u001b[1;32m4\u001b[0m\n\u001b[1;33m    dataset = ' C:\\Users\\HP\\OneDrive\\Desktop\\project\\DL Project 3. Dog vs Cat Classification - Transfer Learning/dogs-vs-cats.zip'\u001b[0m\n\u001b[1;37m              ^\u001b[0m\n\u001b[1;31mSyntaxError\u001b[0m\u001b[1;31m:\u001b[0m (unicode error) 'unicodeescape' codec can't decode bytes in position 3-4: truncated \\UXXXXXXXX escape\n"
     ]
    }
   ],
   "source": [
    "# extracting the compressed dataset\n",
    "from zipfile import ZipFile\n",
    "\n",
    "dataset = ' C:\\Users\\HP\\OneDrive\\Desktop\\project\\DL Project 3. Dog vs Cat Classification - Transfer Learning/dogs-vs-cats.zip'\n",
    "\n",
    "with ZipFile(dataset, 'r') as zip:\n",
    "  zip.extractall()\n",
    "  print('The dataset is extracted')"
   ]
  },
  {
   "cell_type": "code",
   "execution_count": null,
   "id": "62ab9309",
   "metadata": {},
   "outputs": [],
   "source": [
    "# extracting the compressed dataset\n",
    "from zipfile import ZipFile\n",
    "\n",
    "# Use a raw string (r) to avoid issues with backslashes\n",
    "dataset_path = r'C:\\Users\\HP\\OneDrive\\Desktop\\project\\DL Project 3. Dog vs Cat Classification - Transfer Learning\\dogs-vs-cats.zip'\n",
    "\n",
    "with ZipFile(dataset_path, 'r') as zip:\n",
    "    zip.extractall()\n",
    "    print('The dataset is extracted')\n"
   ]
  },
  {
   "cell_type": "code",
   "execution_count": null,
   "id": "ee961049",
   "metadata": {},
   "outputs": [],
   "source": [
    "# Extracting the compressed dataset\n",
    "from zipfile import ZipFile\n",
    "\n",
    "# Use forward slashes or a raw string\n",
    "dataset_path = 'C:/Users/HP/OneDrive/Desktop/project/DL Project 3. Dog vs Cat Classification - Transfer Learning/kaggle-cat-vs-dog-dataset.zip'\n",
    "\n",
    "with ZipFile(dataset_path, 'r') as zip:\n",
    "    zip.extractall()\n",
    "    print('The dataset is extracted')\n"
   ]
  },
  {
   "cell_type": "code",
   "execution_count": null,
   "id": "b2a4a20a",
   "metadata": {},
   "outputs": [],
   "source": [
    "import os\n",
    "# counting the number of files in train folder\n",
    "path, dirs, files = next(os.walk('C:/Users/HP/OneDrive/Desktop/project/DL Project 3. Dog vs Cat Classification - Transfer Learning/kagglecatsanddogs_3367a'))\n",
    "file_count = len(files)\n",
    "print('Number of images: ', file_count)\n"
   ]
  },
  {
   "cell_type": "code",
   "execution_count": null,
   "id": "51345aa1",
   "metadata": {},
   "outputs": [],
   "source": [
    "file_names = os.listdir('C:/Users/HP/OneDrive/Desktop/project/DL Project 3. Dog vs Cat Classification - Transfer Learning/kagglecatsanddogs_3367a')\n",
    "print(file_names)"
   ]
  },
  {
   "cell_type": "code",
   "execution_count": null,
   "id": "5e5a31d6",
   "metadata": {},
   "outputs": [],
   "source": []
  }
 ],
 "metadata": {
  "kernelspec": {
   "display_name": "Python 3",
   "language": "python",
   "name": "python3"
  },
  "language_info": {
   "codemirror_mode": {
    "name": "ipython",
    "version": 3
   },
   "file_extension": ".py",
   "mimetype": "text/x-python",
   "name": "python",
   "nbconvert_exporter": "python",
   "pygments_lexer": "ipython3",
   "version": "3.8.8"
  }
 },
 "nbformat": 4,
 "nbformat_minor": 5
}
